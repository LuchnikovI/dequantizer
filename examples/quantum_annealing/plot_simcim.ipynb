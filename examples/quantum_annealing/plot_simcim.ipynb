{
 "cells": [
  {
   "cell_type": "code",
   "execution_count": null,
   "metadata": {},
   "outputs": [],
   "source": [
    "import os\n",
    "import matplotlib.pyplot as plt\n",
    "import h5py\n",
    "import numpy as np\n",
    "import networkx as nx\n",
    "\n",
    "plt.rcParams.update({\n",
    "    \"text.usetex\": True,\n",
    "    \"font.family\": \"Helvetica\",\n",
    "    \"font.size\": 12,\n",
    "})\n",
    "\n",
    "script_dir = os.getcwd()\n",
    "# ---------- here is the path to the results directory ----------------------\n",
    "results_dir_path = f\"{script_dir}/outputs/qbp/graph_stat/2024-04-30/19-57-47\"\n",
    "# ---------------------------------------------------------------------------\n",
    "results_path = f\"{results_dir_path}/simcim_result\"\n",
    "\n",
    "with h5py.File(results_path, \"r\") as f:\n",
    "    circuit = nx.Graph()\n",
    "    fields = np.array(f[\"fields\"])\n",
    "    pairs = np.array(f[\"coupled_spin_pairs\"])\n",
    "    coupling_amplitudes = np.array(f[\"coupling_amplitudes\"])\n",
    "    simcim_coloring = list(map(lambda x: \"blue\" if x > 0 else \"red\", np.array(f[\"simcim_configuration\"])))\n",
    "    simcim_energy = np.array(f[\"simcim_energy\"])\n",
    "    for id in range(fields.shape[0]):\n",
    "        circuit.add_node(id)\n",
    "    for pair in pairs:\n",
    "        circuit.add_edge(pair[0], pair[1])\n",
    "    fig, ax = plt.subplots(1, 1)\n",
    "    ax.set_title(r\"{\\rm Energy = \" + str(simcim_energy) + r\"}\")\n",
    "    nx.draw_spectral(circuit, node_size=5, width=1., node_color=simcim_coloring, ax=ax)"
   ]
  },
  {
   "cell_type": "code",
   "execution_count": null,
   "metadata": {},
   "outputs": [],
   "source": [
    "fig.savefig(f\"{results_dir_path}/simcim_graph.pdf\",  bbox_inches=\"tight\")"
   ]
  }
 ],
 "metadata": {
  "kernelspec": {
   "display_name": "venv",
   "language": "python",
   "name": "python3"
  },
  "language_info": {
   "codemirror_mode": {
    "name": "ipython",
    "version": 3
   },
   "file_extension": ".py",
   "mimetype": "text/x-python",
   "name": "python",
   "nbconvert_exporter": "python",
   "pygments_lexer": "ipython3",
   "version": "3.10.12"
  }
 },
 "nbformat": 4,
 "nbformat_minor": 2
}
