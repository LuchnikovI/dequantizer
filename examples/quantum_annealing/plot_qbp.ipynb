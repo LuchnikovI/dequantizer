{
 "cells": [
  {
   "cell_type": "code",
   "execution_count": null,
   "metadata": {},
   "outputs": [],
   "source": [
    "import os\n",
    "import matplotlib.pyplot as plt\n",
    "import h5py\n",
    "import numpy as np\n",
    "import networkx as nx\n",
    "import yaml\n",
    "\n",
    "plt.rcParams.update({\n",
    "    \"text.usetex\": True,\n",
    "    \"font.family\": \"Helvetica\",\n",
    "    \"font.size\": 12,\n",
    "})\n",
    "\n",
    "script_dir = os.getcwd()\n",
    "# ---------- here is the path to the results directory ----------------------\n",
    "# here is the path to the results directory\n",
    "# ---------------------------------------------------------------------------\n",
    "results_dir_path = f\"{script_dir}/outputs/qbp/2024-05-06/09-20-04\"\n",
    "results_path = f\"{results_dir_path}/result\"\n",
    "config_path = f\"{results_dir_path}/.hydra/config.yaml\"\n",
    "with open(config_path, \"r\") as f:\n",
    "    raw_config = f.read()\n",
    "    config = yaml.safe_load(raw_config)\n",
    "sample_measurements = bool(config[\"quantum_annealing_schedule\"][\"sample_measurements\"])\n",
    "layers_number = int(config[\"quantum_annealing_schedule\"][\"steps_number\"])\n",
    "with h5py.File(results_path, \"r\") as f:\n",
    "    circuit = nx.Graph()\n",
    "    fields = np.array(f[\"fields\"])\n",
    "    pairs = np.array(f[\"coupled_spin_pairs\"])\n",
    "    coupling_amplitudes = np.array(f[\"coupling_amplitudes\"])\n",
    "    truncation_errors = np.array(f[\"truncation_errors\"])\n",
    "    entropies = np.array(f[\"entropies\"])\n",
    "    quantum_annealing_color_wo_sampling = list(map(lambda x: \"blue\" if x > 0.5 else \"red\", np.array(f[\"density_matrices\"])[:, 0, 0]))\n",
    "    quantum_annealer_energy_wo_sampling =  np.array(f[\"quantum_annealer_energy_wo_sampling\"])\n",
    "    if sample_measurements:\n",
    "        quantum_annealer_coloring = list(map(lambda x: \"blue\" if x > 0 else \"red\", np.array(f[\"quantum_annealer_configuration\"])))\n",
    "        quantum_annealer_energy = np.array(f[\"quantum_annealer_energy\"])\n",
    "    vidal_distances_after_regauging = np.array(f[\"vidal_distances_after_regauging\"])\n",
    "    for id in range(fields.shape[0]):\n",
    "        circuit.add_node(id)\n",
    "    for pair in pairs:\n",
    "        circuit.add_edge(pair[0], pair[1])\n",
    "    fig_graph_wo_sampling, ax = plt.subplots(1, 1)\n",
    "    ax.set_title(r\"{\\rm Energy = \" + str(quantum_annealer_energy_wo_sampling) + r\"}\")\n",
    "    nx.draw_kamada_kawai(circuit, node_size=5, width=1., node_color=quantum_annealing_color_wo_sampling, ax=ax)\n",
    "    if sample_measurements:\n",
    "        fig_graph_with_sampling, ax = plt.subplots(1, 1)\n",
    "        ax.set_title(r\"{\\rm Energy = \" + str(quantum_annealer_energy) + r\"}\")\n",
    "        nx.draw_kamada_kawai(circuit, node_size=5, width=1., node_color=quantum_annealer_coloring, ax=ax)\n",
    "    fig_truncation_error, ax = plt.subplots(1, 1)\n",
    "    ax.plot(truncation_errors, 'b')\n",
    "    ax.set_ylabel(r\"{\\rm Error}\")\n",
    "    ax.set_xlabel(r\"{\\rm Two-qubit gate number}\")\n",
    "    ax.set_yscale('log')\n",
    "    fig_vidal_dist, ax = plt.subplots(1, 1)\n",
    "    ax.plot(vidal_distances_after_regauging, 'b')\n",
    "    ax.set_ylabel(r\"{\\rm Vidal distance}\")\n",
    "    ax.set_xlabel(r\"{\\rm Regauging number}\")\n",
    "    fig_entropy, ax = plt.subplots(1, 1)\n",
    "    ax.plot(entropies, 'b')\n",
    "    ax.set_ylabel(r\"{\\rm Entropy}\")\n",
    "    ax.set_xlabel(r\"{\\rm Two-qubit gate number}\")"
   ]
  },
  {
   "cell_type": "code",
   "execution_count": null,
   "metadata": {},
   "outputs": [],
   "source": [
    "fig_graph_wo_sampling.savefig(f\"{results_dir_path}/qbp_graph_wo_sampling.pdf\", bbox_inches=\"tight\")\n",
    "fig_truncation_error.savefig(f\"{results_dir_path}/qbp_truncation_error.pdf\", bbox_inches=\"tight\")\n",
    "fig_vidal_dist.savefig(f\"{results_dir_path}/qbp_vidal_distance.pdf\", bbox_inches=\"tight\")\n",
    "fig_entropy.savefig(f\"{results_dir_path}/qbp_entropy.pdf\", bbox_inches=\"tight\")\n",
    "if sample_measurements:\n",
    "    fig_graph_with_sampling.savefig(f\"{results_dir_path}/qbp_graph_with_sampling.pdf\", bbox_inches=\"tight\")"
   ]
  }
 ],
 "metadata": {
  "kernelspec": {
   "display_name": "venv",
   "language": "python",
   "name": "python3"
  },
  "language_info": {
   "codemirror_mode": {
    "name": "ipython",
    "version": 3
   },
   "file_extension": ".py",
   "mimetype": "text/x-python",
   "name": "python",
   "nbconvert_exporter": "python",
   "pygments_lexer": "ipython3",
   "version": "3.10.12"
  }
 },
 "nbformat": 4,
 "nbformat_minor": 2
}
