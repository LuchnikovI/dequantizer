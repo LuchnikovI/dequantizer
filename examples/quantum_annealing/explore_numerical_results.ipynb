{
 "cells": [
  {
   "cell_type": "code",
   "execution_count": null,
   "metadata": {},
   "outputs": [],
   "source": [
    "import os\n",
    "import h5py\n",
    "\n",
    "script_dir = os.getcwd()\n",
    "# ---------- here is the path to the results directory ----------------------\n",
    "results_dir_path = f\"{script_dir}/outputs/qbp/<path-to-particular-experiment>\"\n",
    "bp_based_annealing_results_path = f\"{results_dir_path}/result\"\n",
    "mqlib_results_path = f\"{results_dir_path}/mqlib_result\"\n",
    "simcim_results_path = f\"{results_dir_path}/simcim_result\"\n",
    "exact_annealing_results_path = f\"{results_dir_path}/exact_result\"\n",
    "with h5py.File(bp_based_annealing_results_path, \"r\") as f:\n",
    "    print(f.keys())\n",
    "with h5py.File(mqlib_results_path, \"r\") as f:\n",
    "    print(f.keys())\n",
    "with h5py.File(simcim_results_path, \"r\") as f:\n",
    "    print(f.keys())\n",
    "with h5py.File(exact_annealing_results_path, \"r\") as f:\n",
    "    print(f.keys())"
   ]
  }
 ],
 "metadata": {
  "kernelspec": {
   "display_name": "venv",
   "language": "python",
   "name": "python3"
  },
  "language_info": {
   "codemirror_mode": {
    "name": "ipython",
    "version": 3
   },
   "file_extension": ".py",
   "mimetype": "text/x-python",
   "name": "python",
   "nbconvert_exporter": "python",
   "pygments_lexer": "ipython3",
   "version": "3.10.12"
  }
 },
 "nbformat": 4,
 "nbformat_minor": 2
}
