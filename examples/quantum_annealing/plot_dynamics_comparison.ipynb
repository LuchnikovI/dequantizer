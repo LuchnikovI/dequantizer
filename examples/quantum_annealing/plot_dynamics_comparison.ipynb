{
 "cells": [
  {
   "cell_type": "code",
   "execution_count": null,
   "metadata": {},
   "outputs": [],
   "source": [
    "import os\n",
    "import matplotlib.pyplot as plt\n",
    "import h5py\n",
    "import numpy as np\n",
    "import networkx as nx\n",
    "\n",
    "plt.rcParams.update({\n",
    "    \"text.usetex\": True,\n",
    "    \"font.family\": \"Helvetica\",\n",
    "    \"font.size\": 12,\n",
    "})\n",
    "\n",
    "script_dir = os.getcwd()\n",
    "# ---------- here is the path to the results directory ----------------------\n",
    "results_dir_path = f\"{script_dir}/outputs/qbp/2024-05-06/09-31-46\"\n",
    "# ---------------------------------------------------------------------------\n",
    "results_path = f\"{results_dir_path}/result\"\n",
    "exact_results_path = f\"{results_dir_path}/exact_result\"\n",
    "\n",
    "with h5py.File(results_path, \"r\") as f:\n",
    "    density_matrices = np.array(f[\"density_matrices_history\"])\n",
    "with h5py.File(exact_results_path, \"r\") as f:\n",
    "    exact_density_matrices = np.array(f[\"density_matrices_history\"])\n",
    "fig = plt.figure()\n",
    "plt.plot(2 * density_matrices[:, :1, 0, 0] - 1, 'b', label=r\"${\\rm Belief \\ propagation}$\")\n",
    "plt.plot(2 * density_matrices[:, 1:, 0, 0] - 1, 'b')\n",
    "plt.plot(2 * exact_density_matrices[:, :1, 0, 0] - 1, 'r:', label=r\"${\\rm Exact}$\")\n",
    "plt.plot(2 * exact_density_matrices[:, 1:, 0, 0] - 1, 'r:')\n",
    "plt.xlabel(r\"${\\rm Time}$\")\n",
    "plt.ylabel(r\"$\\langle\\sigma_z\\rangle$\")\n",
    "plt.legend()"
   ]
  },
  {
   "cell_type": "code",
   "execution_count": null,
   "metadata": {},
   "outputs": [],
   "source": [
    "fig.savefig(f\"{results_dir_path}/dynamics_comparison.pdf\",  bbox_inches=\"tight\")"
   ]
  },
  {
   "cell_type": "code",
   "execution_count": null,
   "metadata": {},
   "outputs": [],
   "source": [
    "num = np.sqrt(((density_matrices - exact_density_matrices) ** 2).sum((1, 2, 3)))\n",
    "denom = np.sqrt((exact_density_matrices ** 2).sum((1, 2, 3)))\n",
    "fig = plt.figure()\n",
    "plt.plot(num / denom, 'b')\n",
    "plt.yscale(\"log\")\n",
    "plt.ylabel(r\"$\\frac{\\|{\\rm exact} - {\\rm bp}\\|_{\\rm F}}{\\|{\\rm exact}\\|_{\\rm F}}$\")\n",
    "plt.xlabel(r\"{\\rm Time}\")"
   ]
  },
  {
   "cell_type": "code",
   "execution_count": null,
   "metadata": {},
   "outputs": [],
   "source": [
    "fig.savefig(f\"{results_dir_path}/error_vs_time.pdf\",  bbox_inches=\"tight\")"
   ]
  }
 ],
 "metadata": {
  "kernelspec": {
   "display_name": "venv",
   "language": "python",
   "name": "python3"
  },
  "language_info": {
   "codemirror_mode": {
    "name": "ipython",
    "version": 3
   },
   "file_extension": ".py",
   "mimetype": "text/x-python",
   "name": "python",
   "nbconvert_exporter": "python",
   "pygments_lexer": "ipython3",
   "version": "3.10.12"
  }
 },
 "nbformat": 4,
 "nbformat_minor": 2
}
