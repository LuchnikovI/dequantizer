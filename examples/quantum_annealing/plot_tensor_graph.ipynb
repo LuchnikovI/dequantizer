{
 "cells": [
  {
   "cell_type": "code",
   "execution_count": null,
   "metadata": {},
   "outputs": [],
   "source": [
    "import os\n",
    "import matplotlib.pyplot as plt\n",
    "import h5py\n",
    "import numpy as np\n",
    "import networkx as nx\n",
    "import yaml\n",
    "\n",
    "plt.rcParams.update({\n",
    "    \"text.usetex\": True,\n",
    "    \"font.family\": \"Helvetica\",\n",
    "    \"font.size\": 12,\n",
    "})\n",
    "\n",
    "script_dir = os.getcwd()\n",
    "# ---------- here is the path to the results directory ----------------------\n",
    "results_dir_path = f\"{script_dir}/outputs/qbp/very_large/2024-04-30/18-07-06\"\n",
    "# ---------------------------------------------------------------------------\n",
    "results_path = f\"{results_dir_path}/result\"\n",
    "config_path = f\"{results_dir_path}/.hydra/config.yaml\"\n",
    "with open(config_path, \"r\") as f:\n",
    "    raw_config = f.read()\n",
    "    config = yaml.safe_load(raw_config)\n",
    "layers_number = int(config[\"quantum_annealing_schedule\"][\"steps_number\"])\n",
    "with h5py.File(results_path, \"r\") as f:\n",
    "    circuit = nx.Graph()\n",
    "    fields = np.array(f[\"fields\"])\n",
    "    pairs = np.array(f[\"coupled_spin_pairs\"])\n",
    "    tn_graph = nx.Graph()\n",
    "    for id in range(fields.shape[0]):\n",
    "        tn_graph.add_node(id)\n",
    "    front_layer_ids = { key: value for key, value in zip(range(fields.shape[0]), range(fields.shape[0])) }\n",
    "    for layer in range(layers_number):\n",
    "        for pair in pairs:\n",
    "            id = (layer, pair[0], pair[1])\n",
    "            tn_graph.add_node(id)\n",
    "            tn_graph.add_edge(id, front_layer_ids[pair[0]])\n",
    "            tn_graph.add_edge(id, front_layer_ids[pair[1]])\n",
    "            front_layer_ids[pair[0]] = id\n",
    "            front_layer_ids[pair[1]] = id\n",
    "        for i in range(fields.shape[0]):\n",
    "            id = (layer, i)\n",
    "            tn_graph.add_node(id)\n",
    "            tn_graph.add_edge(id, front_layer_ids[i])\n",
    "            front_layer_ids[i] = id\n",
    "    fig = plt.figure(figsize=(20, 20))\n",
    "    nx.draw_random(tn_graph, node_size=3, width=0.5, node_color='red')"
   ]
  },
  {
   "cell_type": "code",
   "execution_count": null,
   "metadata": {},
   "outputs": [],
   "source": [
    "fig.savefig(f\"{results_dir_path}/tensor_network.pdf\", bbox_inches=\"tight\")"
   ]
  }
 ],
 "metadata": {
  "kernelspec": {
   "display_name": "venv",
   "language": "python",
   "name": "python3"
  },
  "language_info": {
   "codemirror_mode": {
    "name": "ipython",
    "version": 3
   },
   "file_extension": ".py",
   "mimetype": "text/x-python",
   "name": "python",
   "nbconvert_exporter": "python",
   "pygments_lexer": "ipython3",
   "version": "3.10.12"
  }
 },
 "nbformat": 4,
 "nbformat_minor": 2
}
