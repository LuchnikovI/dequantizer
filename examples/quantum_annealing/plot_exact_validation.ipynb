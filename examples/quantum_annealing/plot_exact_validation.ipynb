{
 "cells": [
  {
   "cell_type": "code",
   "execution_count": null,
   "metadata": {},
   "outputs": [],
   "source": [
    "import os\n",
    "from pathlib import Path\n",
    "import matplotlib.pyplot as plt\n",
    "import h5py\n",
    "import numpy as np\n",
    "\n",
    "plt.rcParams.update({\n",
    "    \"text.usetex\": True,\n",
    "    \"font.family\": \"Helvetica\",\n",
    "    \"font.size\": 20,\n",
    "})\n",
    "\n",
    "script_dir = os.getcwd()\n",
    "# ---------- here is the path to the results directory ----------------------\n",
    "# here is the path to the results directory\n",
    "# ---------------------------------------------------------------------------\n",
    "results_dir_path = Path(f\"{script_dir}/outputs/qbp/exact_validation\")\n",
    "dir_per_size = os.walk(results_dir_path).__next__()[1]\n",
    "errors = []\n",
    "sizes = []\n",
    "def trace_distance(lhs, rhs):\n",
    "    s = np.linalg.eigvalsh(lhs - rhs)\n",
    "    return 0.5 * np.abs(s).sum(-1).mean()\n",
    "for size in dir_per_size:\n",
    "    error_per_size = []\n",
    "    size_path = results_dir_path.joinpath(size)\n",
    "    for subpath in os.walk(size_path).__next__()[1]:\n",
    "        result_path = size_path.joinpath(subpath)\n",
    "        with h5py.File(result_path.joinpath(\"result\"), \"r\") as f:\n",
    "            density_matrices = np.array(f[\"density_matrices_history\"])\n",
    "        with h5py.File(result_path.joinpath(\"exact_result\"), \"r\") as f:\n",
    "            exact_density_matrices = np.array(f[\"density_matrices_history\"])\n",
    "        error_per_size.append(trace_distance(exact_density_matrices, density_matrices))\n",
    "    sizes.append(int(size))\n",
    "    errors.append(np.array(error_per_size))\n",
    "errors = np.array(errors)\n",
    "sizes = np.array(sizes)\n",
    "errors = errors[sizes.argsort()][..., np.newaxis]\n",
    "sizes.sort()\n",
    "sizes = np.tile(sizes.reshape((-1, 1, 1)), (1, errors.shape[1], 1))\n",
    "data = np.concatenate([sizes, errors], axis=-1).reshape((-1, 2))\n",
    "fig = plt.figure()\n",
    "plt.scatter(data[:, 0], data[:, 1], marker=\"d\", color=\"b\")\n",
    "plt.ylabel(r\"${\\epsilon}$\")\n",
    "plt.xlabel(r\"${\\rm Qubits \\ number}$\")\n",
    "plt.xticks(sizes[:, 0, 0])\n",
    "plt.yscale('log')"
   ]
  },
  {
   "cell_type": "code",
   "execution_count": null,
   "metadata": {},
   "outputs": [],
   "source": [
    "fig.savefig(f\"{results_dir_path}/error_analysis.pdf\",  bbox_inches=\"tight\")"
   ]
  }
 ],
 "metadata": {
  "kernelspec": {
   "display_name": "venv",
   "language": "python",
   "name": "python3"
  },
  "language_info": {
   "codemirror_mode": {
    "name": "ipython",
    "version": 3
   },
   "file_extension": ".py",
   "mimetype": "text/x-python",
   "name": "python",
   "nbconvert_exporter": "python",
   "pygments_lexer": "ipython3",
   "version": "3.10.12"
  }
 },
 "nbformat": 4,
 "nbformat_minor": 2
}
