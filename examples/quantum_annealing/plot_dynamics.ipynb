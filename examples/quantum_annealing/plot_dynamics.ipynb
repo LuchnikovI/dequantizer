{
 "cells": [
  {
   "cell_type": "code",
   "execution_count": null,
   "metadata": {},
   "outputs": [],
   "source": [
    "import os\n",
    "import matplotlib.pyplot as plt\n",
    "import h5py\n",
    "import numpy as np\n",
    "import yaml\n",
    "\n",
    "plt.rcParams.update({\n",
    "    \"text.usetex\": True,\n",
    "    \"font.family\": \"Helvetica\",\n",
    "    \"font.size\": 20,\n",
    "})\n",
    "\n",
    "script_dir = os.getcwd()\n",
    "# ---------- here is the path to the results directory ----------------------\n",
    "results_dir_path = f\"{script_dir}/outputs/qbp/very_large/2024-05-16/13-15-25\"\n",
    "# ---------------------------------------------------------------------------\n",
    "results_path = f\"{results_dir_path}/result\"\n",
    "config_path = f\"{results_dir_path}/.hydra/config.yaml\"\n",
    "with open(config_path, \"r\") as f:\n",
    "    raw_config = f.read()\n",
    "    config = yaml.safe_load(raw_config)\n",
    "layers_number = int(config[\"quantum_annealing_schedule\"][\"steps_number\"])\n",
    "time_step = float(config[\"quantum_annealing_schedule\"][\"total_time_step_size\"])\n",
    "time = np.arange(layers_number) * time_step\n",
    "\n",
    "with h5py.File(results_path, \"r\") as f:\n",
    "    density_matrices = np.array(f[\"density_matrices_history\"])\n",
    "z = 2 * density_matrices[:, :, 0, 0] - 1\n",
    "print(f\"Number of confident spins: {(np.abs(z[-1]) > 0.5).sum()}\")\n",
    "fig = plt.figure()\n",
    "plt.plot(time, z, 'b', linewidth=0.15)\n",
    "plt.xlabel(r\"${\\rm Time}$\")\n",
    "plt.ylabel(r\"$\\langle Z\\rangle$\")\n",
    "plt.axhline(0, color='k', linewidth=0.75)\n",
    "plt.axhline(0.5, color='k', linewidth=0.75)\n",
    "plt.axhline(-0.5, color='k', linewidth=0.75)\n",
    "#plt.yscale('symlog', linthresh=1e-3)"
   ]
  },
  {
   "cell_type": "code",
   "execution_count": null,
   "metadata": {},
   "outputs": [],
   "source": [
    "fig.savefig(f\"{results_dir_path}/qbp_dynamics.pdf\",  bbox_inches=\"tight\")"
   ]
  }
 ],
 "metadata": {
  "kernelspec": {
   "display_name": "venv",
   "language": "python",
   "name": "python3"
  },
  "language_info": {
   "codemirror_mode": {
    "name": "ipython",
    "version": 3
   },
   "file_extension": ".py",
   "mimetype": "text/x-python",
   "name": "python",
   "nbconvert_exporter": "python",
   "pygments_lexer": "ipython3",
   "version": "3.10.12"
  }
 },
 "nbformat": 4,
 "nbformat_minor": 2
}
